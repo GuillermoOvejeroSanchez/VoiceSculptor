{
 "cells": [
  {
   "cell_type": "code",
   "execution_count": 132,
   "metadata": {},
   "outputs": [],
   "source": [
    "import pandas as pd\n",
    "import numpy as np"
   ]
  },
  {
   "cell_type": "code",
   "execution_count": 133,
   "metadata": {},
   "outputs": [],
   "source": [
    "df = pd.read_csv(\"files_nsyll.csv\").drop(['Unnamed: 0'],axis=1)\n",
    "df_speech = pd.read_csv(\"speechrate_data.csv\").drop(['Unnamed: 0'],axis=1)"
   ]
  },
  {
   "cell_type": "code",
   "execution_count": 199,
   "metadata": {},
   "outputs": [
    {
     "data": {
      "text/html": [
       "<div>\n",
       "<style scoped>\n",
       "    .dataframe tbody tr th:only-of-type {\n",
       "        vertical-align: middle;\n",
       "    }\n",
       "\n",
       "    .dataframe tbody tr th {\n",
       "        vertical-align: top;\n",
       "    }\n",
       "\n",
       "    .dataframe thead th {\n",
       "        text-align: right;\n",
       "    }\n",
       "</style>\n",
       "<table border=\"1\" class=\"dataframe\">\n",
       "  <thead>\n",
       "    <tr style=\"text-align: right;\">\n",
       "      <th></th>\n",
       "      <th>wav_filename</th>\n",
       "      <th>wav_filesize</th>\n",
       "      <th>transcript</th>\n",
       "      <th>nsyll</th>\n",
       "    </tr>\n",
       "  </thead>\n",
       "  <tbody>\n",
       "    <tr>\n",
       "      <th>0</th>\n",
       "      <td>audios/4da6b70e-0108-4f75-80ae-3d71f1dd2c2b.wav</td>\n",
       "      <td>219064</td>\n",
       "      <td>y aquí en dos palotadas hemos encontrado robus...</td>\n",
       "      <td>36</td>\n",
       "    </tr>\n",
       "    <tr>\n",
       "      <th>1</th>\n",
       "      <td>audios/8c2ab30b-0fd4-41c3-9724-3b15f2ee2c27.wav</td>\n",
       "      <td>271910</td>\n",
       "      <td>cuando los consejeros escucharon aquello queda...</td>\n",
       "      <td>43</td>\n",
       "    </tr>\n",
       "    <tr>\n",
       "      <th>2</th>\n",
       "      <td>audios/ca73c951-c62a-41fe-a953-9871514151f2.wav</td>\n",
       "      <td>64520</td>\n",
       "      <td>su mujer con la cara entre las manos</td>\n",
       "      <td>12</td>\n",
       "    </tr>\n",
       "    <tr>\n",
       "      <th>3</th>\n",
       "      <td>audios/067c4606-777b-4fb2-bc6f-8185fbec9016.wav</td>\n",
       "      <td>84222</td>\n",
       "      <td>y otros que se podían echar a la oreja de un toro</td>\n",
       "      <td>18</td>\n",
       "    </tr>\n",
       "    <tr>\n",
       "      <th>4</th>\n",
       "      <td>audios/49a08f90-3fc0-43ad-bd5e-a6b671cafdd4.wav</td>\n",
       "      <td>77316</td>\n",
       "      <td>al oír mis pasos alzó la cabeza</td>\n",
       "      <td>10</td>\n",
       "    </tr>\n",
       "  </tbody>\n",
       "</table>\n",
       "</div>"
      ],
      "text/plain": [
       "                                      wav_filename  wav_filesize  \\\n",
       "0  audios/4da6b70e-0108-4f75-80ae-3d71f1dd2c2b.wav        219064   \n",
       "1  audios/8c2ab30b-0fd4-41c3-9724-3b15f2ee2c27.wav        271910   \n",
       "2  audios/ca73c951-c62a-41fe-a953-9871514151f2.wav         64520   \n",
       "3  audios/067c4606-777b-4fb2-bc6f-8185fbec9016.wav         84222   \n",
       "4  audios/49a08f90-3fc0-43ad-bd5e-a6b671cafdd4.wav         77316   \n",
       "\n",
       "                                          transcript  nsyll  \n",
       "0  y aquí en dos palotadas hemos encontrado robus...     36  \n",
       "1  cuando los consejeros escucharon aquello queda...     43  \n",
       "2               su mujer con la cara entre las manos     12  \n",
       "3  y otros que se podían echar a la oreja de un toro     18  \n",
       "4                    al oír mis pasos alzó la cabeza     10  "
      ]
     },
     "execution_count": 199,
     "metadata": {},
     "output_type": "execute_result"
    }
   ],
   "source": [
    "df.head()"
   ]
  },
  {
   "cell_type": "code",
   "execution_count": 200,
   "metadata": {},
   "outputs": [
    {
     "data": {
      "text/html": [
       "<div>\n",
       "<style scoped>\n",
       "    .dataframe tbody tr th:only-of-type {\n",
       "        vertical-align: middle;\n",
       "    }\n",
       "\n",
       "    .dataframe tbody tr th {\n",
       "        vertical-align: top;\n",
       "    }\n",
       "\n",
       "    .dataframe thead th {\n",
       "        text-align: right;\n",
       "    }\n",
       "</style>\n",
       "<table border=\"1\" class=\"dataframe\">\n",
       "  <thead>\n",
       "    <tr style=\"text-align: right;\">\n",
       "      <th></th>\n",
       "      <th>sound</th>\n",
       "      <th>nsyll</th>\n",
       "      <th>npause</th>\n",
       "      <th>dur(s)</th>\n",
       "      <th>phonationtime(s)</th>\n",
       "      <th>speechrate(nsyll / dur)</th>\n",
       "      <th>articulation rate(nsyll / phonationtime)</th>\n",
       "      <th>ASD(speakingtime / nsyll)</th>\n",
       "    </tr>\n",
       "  </thead>\n",
       "  <tbody>\n",
       "    <tr>\n",
       "      <th>0</th>\n",
       "      <td>audios/0000df16-47ea-428f-8367-df2ce365d5c4.wav</td>\n",
       "      <td>34</td>\n",
       "      <td>2</td>\n",
       "      <td>8.93</td>\n",
       "      <td>8.93</td>\n",
       "      <td>3.807391</td>\n",
       "      <td>4.398448</td>\n",
       "      <td>0.227353</td>\n",
       "    </tr>\n",
       "    <tr>\n",
       "      <th>1</th>\n",
       "      <td>audios/000127f7-2705-4135-b16c-04daaa80e88d.wav</td>\n",
       "      <td>37</td>\n",
       "      <td>1</td>\n",
       "      <td>7.63</td>\n",
       "      <td>7.63</td>\n",
       "      <td>4.849279</td>\n",
       "      <td>5.106266</td>\n",
       "      <td>0.195838</td>\n",
       "    </tr>\n",
       "    <tr>\n",
       "      <th>2</th>\n",
       "      <td>audios/0001d4a5-e7f1-42a4-b71f-74bd1549f2d4.wav</td>\n",
       "      <td>15</td>\n",
       "      <td>1</td>\n",
       "      <td>3.52</td>\n",
       "      <td>3.52</td>\n",
       "      <td>4.261364</td>\n",
       "      <td>4.711055</td>\n",
       "      <td>0.212267</td>\n",
       "    </tr>\n",
       "    <tr>\n",
       "      <th>3</th>\n",
       "      <td>audios/000275c9-1aa3-4112-81df-0883a86d3fb7.wav</td>\n",
       "      <td>18</td>\n",
       "      <td>1</td>\n",
       "      <td>4.29</td>\n",
       "      <td>4.29</td>\n",
       "      <td>4.195804</td>\n",
       "      <td>4.704652</td>\n",
       "      <td>0.212556</td>\n",
       "    </tr>\n",
       "    <tr>\n",
       "      <th>4</th>\n",
       "      <td>audios/0002a149-56cf-4ce0-b2c8-506a53b47012.wav</td>\n",
       "      <td>12</td>\n",
       "      <td>0</td>\n",
       "      <td>2.66</td>\n",
       "      <td>2.66</td>\n",
       "      <td>4.511278</td>\n",
       "      <td>4.511278</td>\n",
       "      <td>0.221667</td>\n",
       "    </tr>\n",
       "  </tbody>\n",
       "</table>\n",
       "</div>"
      ],
      "text/plain": [
       "                                             sound  nsyll  npause  dur(s)  \\\n",
       "0  audios/0000df16-47ea-428f-8367-df2ce365d5c4.wav     34       2    8.93   \n",
       "1  audios/000127f7-2705-4135-b16c-04daaa80e88d.wav     37       1    7.63   \n",
       "2  audios/0001d4a5-e7f1-42a4-b71f-74bd1549f2d4.wav     15       1    3.52   \n",
       "3  audios/000275c9-1aa3-4112-81df-0883a86d3fb7.wav     18       1    4.29   \n",
       "4  audios/0002a149-56cf-4ce0-b2c8-506a53b47012.wav     12       0    2.66   \n",
       "\n",
       "   phonationtime(s)  speechrate(nsyll / dur)  \\\n",
       "0              8.93                 3.807391   \n",
       "1              7.63                 4.849279   \n",
       "2              3.52                 4.261364   \n",
       "3              4.29                 4.195804   \n",
       "4              2.66                 4.511278   \n",
       "\n",
       "   articulation rate(nsyll / phonationtime)  ASD(speakingtime / nsyll)  \n",
       "0                                  4.398448                   0.227353  \n",
       "1                                  5.106266                   0.195838  \n",
       "2                                  4.711055                   0.212267  \n",
       "3                                  4.704652                   0.212556  \n",
       "4                                  4.511278                   0.221667  "
      ]
     },
     "execution_count": 200,
     "metadata": {},
     "output_type": "execute_result"
    }
   ],
   "source": [
    "df_speech.head()"
   ]
  },
  {
   "cell_type": "code",
   "execution_count": 137,
   "metadata": {},
   "outputs": [
    {
     "data": {
      "text/html": [
       "<div>\n",
       "<style scoped>\n",
       "    .dataframe tbody tr th:only-of-type {\n",
       "        vertical-align: middle;\n",
       "    }\n",
       "\n",
       "    .dataframe tbody tr th {\n",
       "        vertical-align: top;\n",
       "    }\n",
       "\n",
       "    .dataframe thead th {\n",
       "        text-align: right;\n",
       "    }\n",
       "</style>\n",
       "<table border=\"1\" class=\"dataframe\">\n",
       "  <thead>\n",
       "    <tr style=\"text-align: right;\">\n",
       "      <th></th>\n",
       "      <th>sound</th>\n",
       "      <th>nsyll</th>\n",
       "      <th>npause</th>\n",
       "      <th>dur(s)</th>\n",
       "      <th>phonationtime(s)</th>\n",
       "      <th>speechrate(nsyll / dur)</th>\n",
       "      <th>articulation rate(nsyll / phonationtime)</th>\n",
       "      <th>ASD(speakingtime / nsyll)</th>\n",
       "    </tr>\n",
       "  </thead>\n",
       "  <tbody>\n",
       "    <tr>\n",
       "      <th>0</th>\n",
       "      <td>audios/0000df16-47ea-428f-8367-df2ce365d5c4.wav</td>\n",
       "      <td>34</td>\n",
       "      <td>2</td>\n",
       "      <td>8.93</td>\n",
       "      <td>8.93</td>\n",
       "      <td>3.807391</td>\n",
       "      <td>4.398448</td>\n",
       "      <td>0.227353</td>\n",
       "    </tr>\n",
       "    <tr>\n",
       "      <th>1</th>\n",
       "      <td>audios/000127f7-2705-4135-b16c-04daaa80e88d.wav</td>\n",
       "      <td>37</td>\n",
       "      <td>1</td>\n",
       "      <td>7.63</td>\n",
       "      <td>7.63</td>\n",
       "      <td>4.849279</td>\n",
       "      <td>5.106266</td>\n",
       "      <td>0.195838</td>\n",
       "    </tr>\n",
       "    <tr>\n",
       "      <th>2</th>\n",
       "      <td>audios/0001d4a5-e7f1-42a4-b71f-74bd1549f2d4.wav</td>\n",
       "      <td>15</td>\n",
       "      <td>1</td>\n",
       "      <td>3.52</td>\n",
       "      <td>3.52</td>\n",
       "      <td>4.261364</td>\n",
       "      <td>4.711055</td>\n",
       "      <td>0.212267</td>\n",
       "    </tr>\n",
       "    <tr>\n",
       "      <th>3</th>\n",
       "      <td>audios/000275c9-1aa3-4112-81df-0883a86d3fb7.wav</td>\n",
       "      <td>18</td>\n",
       "      <td>1</td>\n",
       "      <td>4.29</td>\n",
       "      <td>4.29</td>\n",
       "      <td>4.195804</td>\n",
       "      <td>4.704652</td>\n",
       "      <td>0.212556</td>\n",
       "    </tr>\n",
       "    <tr>\n",
       "      <th>4</th>\n",
       "      <td>audios/0002a149-56cf-4ce0-b2c8-506a53b47012.wav</td>\n",
       "      <td>12</td>\n",
       "      <td>0</td>\n",
       "      <td>2.66</td>\n",
       "      <td>2.66</td>\n",
       "      <td>4.511278</td>\n",
       "      <td>4.511278</td>\n",
       "      <td>0.221667</td>\n",
       "    </tr>\n",
       "  </tbody>\n",
       "</table>\n",
       "</div>"
      ],
      "text/plain": [
       "                                             sound  nsyll  npause  dur(s)  \\\n",
       "0  audios/0000df16-47ea-428f-8367-df2ce365d5c4.wav     34       2    8.93   \n",
       "1  audios/000127f7-2705-4135-b16c-04daaa80e88d.wav     37       1    7.63   \n",
       "2  audios/0001d4a5-e7f1-42a4-b71f-74bd1549f2d4.wav     15       1    3.52   \n",
       "3  audios/000275c9-1aa3-4112-81df-0883a86d3fb7.wav     18       1    4.29   \n",
       "4  audios/0002a149-56cf-4ce0-b2c8-506a53b47012.wav     12       0    2.66   \n",
       "\n",
       "   phonationtime(s)  speechrate(nsyll / dur)  \\\n",
       "0              8.93                 3.807391   \n",
       "1              7.63                 4.849279   \n",
       "2              3.52                 4.261364   \n",
       "3              4.29                 4.195804   \n",
       "4              2.66                 4.511278   \n",
       "\n",
       "   articulation rate(nsyll / phonationtime)  ASD(speakingtime / nsyll)  \n",
       "0                                  4.398448                   0.227353  \n",
       "1                                  5.106266                   0.195838  \n",
       "2                                  4.711055                   0.212267  \n",
       "3                                  4.704652                   0.212556  \n",
       "4                                  4.511278                   0.221667  "
      ]
     },
     "execution_count": 137,
     "metadata": {},
     "output_type": "execute_result"
    }
   ],
   "source": [
    "def strip_name(name):\n",
    "    return name.split('\\\\')[-1]\n",
    "\n",
    "df_speech = pd.read_csv(\"speechrate_data.csv\").drop(['Unnamed: 0'],axis=1)\n",
    "df_speech['sound'] = \"audios/\"+df_speech['sound'].apply(strip_name)\n",
    "df_speech.head()"
   ]
  },
  {
   "cell_type": "code",
   "execution_count": 234,
   "metadata": {},
   "outputs": [
    {
     "name": "stdout",
     "output_type": "stream",
     "text": [
      "5000 112845\n"
     ]
    },
    {
     "data": {
      "text/plain": [
       "1.8106479999999996"
      ]
     },
     "execution_count": 234,
     "metadata": {},
     "output_type": "execute_result"
    }
   ],
   "source": [
    "print(len(n1), len(n2))\n",
    "\n",
    "difference = []\n",
    "for file in n1:\n",
    "    _1 = (df_speech.loc[df_speech[\"sound\"] == file][\"nsyll\"].values)*1.24\n",
    "    _2 = (df.loc[df[\"wav_filename\"] == file][\"nsyll\"].values)\n",
    "    difference.append((_1 - _2))\n",
    "\n",
    "np.mean(difference)"
   ]
  },
  {
   "cell_type": "code",
   "execution_count": 233,
   "metadata": {},
   "outputs": [
    {
     "name": "stdout",
     "output_type": "stream",
     "text": [
      "[19.84] [18]\n",
      "[-2]\n"
     ]
    }
   ],
   "source": [
    "_1 = (df_speech.loc[df_speech[\"sound\"] == n1[10]][\"nsyll\"].values)\n",
    "_2 = (df.loc[df[\"wav_filename\"] == n1[10]][\"nsyll\"].values)\n",
    "\n",
    "print(_1*1.24,_2)\n",
    "print(difference[10])"
   ]
  },
  {
   "cell_type": "code",
   "execution_count": 192,
   "metadata": {},
   "outputs": [
    {
     "name": "stdout",
     "output_type": "stream",
     "text": [
      "True\n"
     ]
    }
   ],
   "source": [
    "if(n1[:5000] == n2[:5000]).all():\n",
    "    print(\"True\")"
   ]
  }
 ],
 "metadata": {
  "kernelspec": {
   "display_name": "Python 3",
   "language": "python",
   "name": "python3"
  },
  "language_info": {
   "codemirror_mode": {
    "name": "ipython",
    "version": 3
   },
   "file_extension": ".py",
   "mimetype": "text/x-python",
   "name": "python",
   "nbconvert_exporter": "python",
   "pygments_lexer": "ipython3",
   "version": "3.8.0"
  }
 },
 "nbformat": 4,
 "nbformat_minor": 4
}
